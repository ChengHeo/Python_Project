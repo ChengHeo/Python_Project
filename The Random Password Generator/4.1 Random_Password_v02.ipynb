{
 "cells": [
  {
   "cell_type": "code",
   "execution_count": 1,
   "id": "a0d38e82",
   "metadata": {},
   "outputs": [
    {
     "name": "stdout",
     "output_type": "stream",
     "text": [
      "Welcome!\n",
      "Please enter your password length: 5\n",
      "The length must be between 8 to 16 digits.\n",
      "Please enter your password length: 5\n",
      "The length must be between 8 to 16 digits.\n",
      "Please enter your password length: 20\n",
      "The length must be between 8 to 16 digits.\n",
      "Please enter your password length: 17\n",
      "The length must be between 8 to 16 digits.\n",
      "Please enter your password length: 10\n",
      "Your password is:[acYJXWCd1\n"
     ]
    }
   ],
   "source": [
    "import random \n",
    "lower=\"abcdefghijklmnopqrstuvwxyz\" \n",
    "upper=\"ABCDEFGHIJKLMNOPQRSTUVWXYZ\" \n",
    "number=\"0123456789\" \n",
    "symbols=\"!@#$%^&*(),./'\\][~`-:<>_+}{=|?\" \n",
    "string=lower+upper+number+symbols\n",
    "\n",
    "print (\"Welcome!\") #greet to the user \n",
    "\n",
    "counter=0\n",
    "\n",
    "while counter==0:\n",
    "    length= eval(input(\"Please enter your password length: \")) \n",
    "    if length>=8 and length<=16:\n",
    "        password=\"\".join(random.sample(string,length))\n",
    "        print(\"Your password is:\"+password)\n",
    "        counter=1\n",
    "    else: \n",
    "        print(\"The length must be between 8 to 16 digits.\") \n",
    "        counter=0\n"
   ]
  },
  {
   "cell_type": "code",
   "execution_count": null,
   "id": "0b7ffcee",
   "metadata": {},
   "outputs": [],
   "source": []
  }
 ],
 "metadata": {
  "kernelspec": {
   "display_name": "Python 3 (ipykernel)",
   "language": "python",
   "name": "python3"
  },
  "language_info": {
   "codemirror_mode": {
    "name": "ipython",
    "version": 3
   },
   "file_extension": ".py",
   "mimetype": "text/x-python",
   "name": "python",
   "nbconvert_exporter": "python",
   "pygments_lexer": "ipython3",
   "version": "3.9.13"
  }
 },
 "nbformat": 4,
 "nbformat_minor": 5
}
