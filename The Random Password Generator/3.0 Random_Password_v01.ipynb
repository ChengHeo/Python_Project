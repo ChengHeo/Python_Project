{
 "cells": [
  {
   "cell_type": "code",
   "execution_count": 1,
   "id": "efd692a0",
   "metadata": {},
   "outputs": [
    {
     "name": "stdout",
     "output_type": "stream",
     "text": [
      "Welcome!\n",
      "Please enter your password length: 5\n",
      "The length must be between 8 to 16 digits.\n",
      "Please enter again: 10\n",
      "Your password is:3gM`1Y5B<2\n"
     ]
    }
   ],
   "source": [
    "print (\"Welcome!\") #greet to the user\n",
    "\n",
    "import random\n",
    "lower=\"abcdefghijklmnopqrstuvwxyz\"\n",
    "upper=\"ABCDEFGHIJKLMNOPQRSTUVWXYZ\"\n",
    "number=\"0123456789\"\n",
    "symbols=\"!@#$%^&*(),./'\\][~`-:<>_+}{=|?\"\n",
    "string=lower+upper+number+symbols\n",
    "\n",
    "length= eval(input(\"Please enter your password length: \"))\n",
    "if length>=8 and length<=16:\n",
    "    l=int(length)\n",
    "else:\n",
    "    print(\"The length must be between 8 to 16 digits.\")\n",
    "    length=eval(input(\"Please enter again: \"))\n",
    "    l=int(length)\n",
    "\n",
    "password=\"\".join(random.sample(string,l))\n",
    "print(\"Your password is:\"+password)"
   ]
  },
  {
   "cell_type": "code",
   "execution_count": 3,
   "id": "6d1b963b",
   "metadata": {},
   "outputs": [
    {
     "name": "stdout",
     "output_type": "stream",
     "text": [
      "Welcome!\n",
      "Please enter your password length: 6\n",
      "The length must be between 8 to 16 digits.\n",
      "Please enter again: 5\n",
      "Your password is:K#JT+\n"
     ]
    }
   ],
   "source": [
    "print (\"Welcome!\") #greet to the user\n",
    "\n",
    "import random\n",
    "lower=\"abcdefghijklmnopqrstuvwxyz\"\n",
    "upper=\"ABCDEFGHIJKLMNOPQRSTUVWXYZ\"\n",
    "number=\"0123456789\"\n",
    "symbols=\"!@#$%^&*(),./'\\][~`-:<>_+}{=|?\"\n",
    "string=lower+upper+number+symbols\n",
    "\n",
    "length= eval(input(\"Please enter your password length: \"))\n",
    "if length>=8 and length<=16:\n",
    "    l=int(length)\n",
    "else:\n",
    "    print(\"The length must be between 8 to 16 digits.\")\n",
    "    length=eval(input(\"Please enter again: \"))\n",
    "    l=int(length)\n",
    "\n",
    "password=\"\".join(random.sample(string,l))\n",
    "print(\"Your password is:\"+password)"
   ]
  },
  {
   "cell_type": "code",
   "execution_count": null,
   "id": "b641208d",
   "metadata": {},
   "outputs": [],
   "source": []
  }
 ],
 "metadata": {
  "kernelspec": {
   "display_name": "Python 3 (ipykernel)",
   "language": "python",
   "name": "python3"
  },
  "language_info": {
   "codemirror_mode": {
    "name": "ipython",
    "version": 3
   },
   "file_extension": ".py",
   "mimetype": "text/x-python",
   "name": "python",
   "nbconvert_exporter": "python",
   "pygments_lexer": "ipython3",
   "version": "3.9.13"
  }
 },
 "nbformat": 4,
 "nbformat_minor": 5
}
